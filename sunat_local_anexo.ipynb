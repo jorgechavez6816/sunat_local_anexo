{
 "cells": [
  {
   "cell_type": "code",
   "execution_count": 1,
   "metadata": {},
   "outputs": [],
   "source": [
    "### Procedimiento automatizado de descarga de Padrón Reducido Ruc de SUNAT - Perú\n",
    "\n",
    "# 01. Librerías a utilizar\n",
    "from urllib.request import urlopen\n",
    "from zipfile import ZipFile\n",
    "\n",
    "# 02. Definición de ruta web\n",
    "zipurl= 'http://www.sunat.gob.pe/descargaPRR/padron_reducido_local_anexo.zip'\n",
    "\n",
    "# 03. Abrir URL\n",
    "zipresp= urlopen(zipurl)\n",
    "\n",
    "# 04. Crea un archivo temporal de tránsito en disco duro\n",
    "tempzip = open(\"C:\\\\Users\\\\Intel\\\\tempfile.zip\", \"wb\")\n",
    "\n",
    "# 05. Traslada info de archivo descargado a nuevo archivo\n",
    "tempzip.write(zipresp.read())\n",
    "\n",
    "# 06. Cierra el archivo temporal creado\n",
    "tempzip.close()\n",
    "\n",
    "# 07. Utiliza el archivo creado\n",
    "zf = ZipFile(\"C:\\\\Users\\\\Intel\\\\tempfile.zip\")\n",
    "\n",
    "# 08. Deposita el archivo extraido en ruta señalada\n",
    "zf.extractall(path = 'C:\\\\Users\\\\Intel\\\\Documents\\\\Mis documentos IDEA\\\\Samples\\\\Archivos fuente.ILB')\n",
    "\n",
    "# 09. Cierra el archivo zip\n",
    "zf.close()\n"
   ]
  },
  {
   "cell_type": "code",
   "execution_count": null,
   "metadata": {},
   "outputs": [],
   "source": []
  }
 ],
 "metadata": {
  "kernelspec": {
   "display_name": "Python 3",
   "language": "python",
   "name": "python3"
  },
  "language_info": {
   "codemirror_mode": {
    "name": "ipython",
    "version": 3
   },
   "file_extension": ".py",
   "mimetype": "text/x-python",
   "name": "python",
   "nbconvert_exporter": "python",
   "pygments_lexer": "ipython3",
   "version": "3.7.6"
  }
 },
 "nbformat": 4,
 "nbformat_minor": 4
}
